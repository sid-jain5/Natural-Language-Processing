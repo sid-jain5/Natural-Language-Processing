{
  "nbformat": 4,
  "nbformat_minor": 0,
  "metadata": {
    "colab": {
      "name": "Twitter Sentiment Analysis Github.ipynb",
      "version": "0.3.2",
      "provenance": []
    },
    "kernelspec": {
      "name": "python2",
      "display_name": "Python 2"
    }
  },
  "cells": [
    {
      "metadata": {
        "id": "yei7LGfBZ9l7",
        "colab_type": "code",
        "colab": {
          "base_uri": "https://localhost:8080/",
          "height": 340
        },
        "outputId": "fd70d527-1d48-4e9f-cf9a-0878e0bf8f03"
      },
      "cell_type": "code",
      "source": [
        "!pip install tweepy"
      ],
      "execution_count": 0,
      "outputs": [
        {
          "output_type": "stream",
          "text": [
            "Collecting tweepy\n",
            "  Downloading https://files.pythonhosted.org/packages/05/f1/2e8c7b202dd04117a378ac0c55cc7dafa80280ebd7f692f1fa8f27fd6288/tweepy-3.6.0-py2.py3-none-any.whl\n",
            "Requirement already satisfied: six>=1.10.0 in /usr/local/lib/python2.7/dist-packages (from tweepy) (1.11.0)\n",
            "Requirement already satisfied: requests-oauthlib>=0.7.0 in /usr/local/lib/python2.7/dist-packages (from tweepy) (1.0.0)\n",
            "Collecting PySocks>=1.5.7 (from tweepy)\n",
            "\u001b[?25l  Downloading https://files.pythonhosted.org/packages/53/12/6bf1d764f128636cef7408e8156b7235b150ea31650d0260969215bb8e7d/PySocks-1.6.8.tar.gz (283kB)\n",
            "\u001b[K    100% |████████████████████████████████| 286kB 9.4MB/s \n",
            "\u001b[?25hRequirement already satisfied: requests>=2.11.1 in /usr/local/lib/python2.7/dist-packages (from tweepy) (2.18.4)\n",
            "Requirement already satisfied: oauthlib>=0.6.2 in /usr/local/lib/python2.7/dist-packages (from requests-oauthlib>=0.7.0->tweepy) (2.1.0)\n",
            "Requirement already satisfied: idna<2.7,>=2.5 in /usr/local/lib/python2.7/dist-packages (from requests>=2.11.1->tweepy) (2.6)\n",
            "Requirement already satisfied: urllib3<1.23,>=1.21.1 in /usr/local/lib/python2.7/dist-packages (from requests>=2.11.1->tweepy) (1.22)\n",
            "Requirement already satisfied: certifi>=2017.4.17 in /usr/local/lib/python2.7/dist-packages (from requests>=2.11.1->tweepy) (2018.8.24)\n",
            "Requirement already satisfied: chardet<3.1.0,>=3.0.2 in /usr/local/lib/python2.7/dist-packages (from requests>=2.11.1->tweepy) (3.0.4)\n",
            "Building wheels for collected packages: PySocks\n",
            "  Running setup.py bdist_wheel for PySocks ... \u001b[?25l-\b \bdone\n",
            "\u001b[?25h  Stored in directory: /root/.cache/pip/wheels/22/5c/b5/12e0dfdfa85bea67b23628b6425fae715c687e947a45ee3df9\n",
            "Successfully built PySocks\n",
            "Installing collected packages: PySocks, tweepy\n",
            "Successfully installed PySocks-1.6.8 tweepy-3.6.0\n"
          ],
          "name": "stdout"
        }
      ]
    },
    {
      "metadata": {
        "id": "DCWI2Gmma1uR",
        "colab_type": "code",
        "colab": {
          "base_uri": "https://localhost:8080/",
          "height": 156
        },
        "outputId": "df380d0e-9ad7-4861-e56d-e7e6f10c1e89"
      },
      "cell_type": "code",
      "source": [
        "!pip install textblob"
      ],
      "execution_count": 0,
      "outputs": [
        {
          "output_type": "stream",
          "text": [
            "Collecting textblob\n",
            "\u001b[?25l  Downloading https://files.pythonhosted.org/packages/11/18/7f55c8be6d68ddc4036ffda5382ca51e23a1075987f708b9123712091af1/textblob-0.15.1-py2.py3-none-any.whl (631kB)\n",
            "\u001b[K    100% |████████████████████████████████| 634kB 8.1MB/s \n",
            "\u001b[?25hRequirement already satisfied: nltk>=3.1 in /usr/local/lib/python2.7/dist-packages (from textblob) (3.2.5)\n",
            "Requirement already satisfied: six in /usr/local/lib/python2.7/dist-packages (from nltk>=3.1->textblob) (1.11.0)\n",
            "Installing collected packages: textblob\n",
            "Successfully installed textblob-0.15.1\n"
          ],
          "name": "stdout"
        }
      ]
    },
    {
      "metadata": {
        "id": "Zpj52nR6aakt",
        "colab_type": "code",
        "colab": {}
      },
      "cell_type": "code",
      "source": [
        "import re\n",
        "import tweepy\n",
        "from tweepy import OAuthHandler\n",
        "from textblob import TextBlob"
      ],
      "execution_count": 0,
      "outputs": []
    },
    {
      "metadata": {
        "id": "ztE2HFrWasRH",
        "colab_type": "code",
        "colab": {
          "base_uri": "https://localhost:8080/",
          "height": 255
        },
        "outputId": "b5c71fc2-f55c-4c6c-92e1-3fe14d5e3763"
      },
      "cell_type": "code",
      "source": [
        "!python -m textblob.download_corpora"
      ],
      "execution_count": 0,
      "outputs": [
        {
          "output_type": "stream",
          "text": [
            "[nltk_data] Downloading package brown to /root/nltk_data...\n",
            "[nltk_data]   Unzipping corpora/brown.zip.\n",
            "[nltk_data] Downloading package punkt to /root/nltk_data...\n",
            "[nltk_data]   Unzipping tokenizers/punkt.zip.\n",
            "[nltk_data] Downloading package wordnet to /root/nltk_data...\n",
            "[nltk_data]   Unzipping corpora/wordnet.zip.\n",
            "[nltk_data] Downloading package averaged_perceptron_tagger to\n",
            "[nltk_data]     /root/nltk_data...\n",
            "[nltk_data]   Unzipping taggers/averaged_perceptron_tagger.zip.\n",
            "[nltk_data] Downloading package conll2000 to /root/nltk_data...\n",
            "[nltk_data]   Unzipping corpora/conll2000.zip.\n",
            "[nltk_data] Downloading package movie_reviews to /root/nltk_data...\n",
            "[nltk_data]   Unzipping corpora/movie_reviews.zip.\n",
            "Finished.\n"
          ],
          "name": "stdout"
        }
      ]
    },
    {
      "metadata": {
        "id": "0-d25rucbfhR",
        "colab_type": "code",
        "colab": {}
      },
      "cell_type": "code",
      "source": [
        "class TwitterClient(object):\n",
        "  \n",
        "  \n",
        "  def __init__(self):\n",
        "    \n",
        "    #Class contructor\n",
        "    consumer_key = 'xxxxxxxxxxxx'\n",
        "    consumer_secret = 'xxxxxxxxxxxxxxxxxxxxxxxxxxxxxxxxxxxxxxx'\n",
        "    access_token = 'xxxxxx-xxxxx'\n",
        "    access_token_secret = 'xxxxxxxxxxxxxxxxxx'\n",
        "    \n",
        "    #Attempt authentication\n",
        "    \n",
        "    try:\n",
        "      self.auth = OAuthHandler(consumer_key, consumer_secret)\n",
        "      self.auth.set_access_token(access_token, access_token_secret)\n",
        "      self.api = tweepy.API(self.auth)\n",
        "      \n",
        "    except:\n",
        "      print(\"Error: Authentication Failed\")\n",
        "      \n",
        "  def cleanTweet(self, tweet):\n",
        "    return ' '.join(re.sub(\"(@[A-Za-z0-9]+)|([^0-9A-Za-z \\t])|(\\w+:\\/\\/\\S+)\", \" \", tweet).split()) \n",
        "  \n",
        "  def getTweetSentiments(self, tweet):\n",
        "    analysis = TextBlob(self.cleanTweet(tweet))\n",
        "    \n",
        "    if analysis.sentiment.polarity > 0:\n",
        "      return 'positive'\n",
        "    elif analysis.sentiment.polarity == 0:\n",
        "      return 'neutral'\n",
        "    else:\n",
        "      return 'negative'\n",
        "    \n",
        "  def getTweets(self, query, count = 10):\n",
        "    tweets = []\n",
        "    \n",
        "    try:\n",
        "      fetched_tweets = self.api.search(q = query, count=count)\n",
        "      \n",
        "      for tweet in fetched_tweets:\n",
        "        parsed_tweet = {}\n",
        "        parsed_tweet['text'] = tweet.text\n",
        "        parsed_tweet['sentiment'] = self.getTweetSentiments(tweet.text)\n",
        "        \n",
        "        if tweet.retweet_count > 0:\n",
        "          if parsed_tweet not in tweets:\n",
        "            tweets.append(parsed_tweet)\n",
        "        else:\n",
        "          tweets.append(parsed_tweet)\n",
        "          \n",
        "      return tweets\n",
        "    \n",
        "    except tweepy.TweepError as e:\n",
        "      print(\"Error : \" + str(e))       "
      ],
      "execution_count": 0,
      "outputs": []
    },
    {
      "metadata": {
        "id": "DWKwLviVjs5X",
        "colab_type": "code",
        "colab": {}
      },
      "cell_type": "code",
      "source": [
        "def main():\n",
        "  api = TwitterClient()\n",
        "  tweets = api.getTweets(query = 'Rahul Gandhi', count = 200)\n",
        "  \n",
        "  positiveTweets = [tweet for tweet in tweets if tweet['sentiment'] == 'positive']\n",
        "  print(\"Positive Tweets Percentage: {} %\".format(100*len(positiveTweets)/len(tweets)))\n",
        "  \n",
        "  negativeTweets = [tweet for tweet in tweets if tweet['sentiment'] == 'negative']\n",
        "  print(\"negative Tweets Percentage: {} %\".format(100*len(negativeTweets)/len(tweets)))\n",
        "  \n",
        " #print(\"Neutral Tweets Percentage: {} %\".format(100*len(tweets-positiveTweets-negatuveTweets)/len(tweets)))\n",
        "  \n",
        "  print(\"\\n\\nPositive tweets:\") \n",
        "  for tweet in positiveTweets[:10]: \n",
        "    print(tweet['text']) \n",
        "   \n",
        "  print(\"\\n\\nNegative tweets:\") \n",
        "  for tweet in negativeTweets[:10]: \n",
        "    print(tweet['text'])"
      ],
      "execution_count": 0,
      "outputs": []
    },
    {
      "metadata": {
        "id": "v7Vxp61MlGVn",
        "colab_type": "code",
        "colab": {
          "base_uri": "https://localhost:8080/",
          "height": 493
        },
        "outputId": "db6fe026-62a9-4d10-f1df-46f30eba68f5"
      },
      "cell_type": "code",
      "source": [
        "if __name__ == \"__main__\":\n",
        "  main()"
      ],
      "execution_count": 0,
      "outputs": [
        {
          "output_type": "stream",
          "text": [
            "Positive Tweets Percentage: 13 %\n",
            "negative Tweets Percentage: 6 %\n",
            "\n",
            "\n",
            "Positive tweets:\n",
            "Is rahul gandhi really Hindu : These points prove him NON HINDU https://t.co/hnhOUPodR3 via dainikbharat\n",
            "@RahulGandhi Rahul gandhi ji pls answers how many fasal in on year ???\n",
            "RT @NH_India: #Congress President Rahul Gandhi is expected to present an alternative political and economic vision for the country, based o…\n",
            "RT @rishibagree: This is real face of Congress under their President Rahul Gandhi. \n",
            "However they act Hindu, in reality they are staunch Hin…\n",
            "RT @rose_k01: Hilarious Take on Rahul Gandhi by these terrifically talented guys 😂😂 \"Vote for Modi Modi Modi.. Congress scams are worth cro…\n",
            "https://t.co/xbUGzmg7gK\n",
            "\n",
            " _In a gentle way you can shake the world_ \n",
            "\n",
            "Dear all, \n",
            "\n",
            "Today we celebrate the 150th birt… https://t.co/gCNLgCko9q\n",
            "RT rishibagree: This is real face of Congress under their President Rahul Gandhi. \n",
            "However they act Hindu, in reali… https://t.co/kNZfnEOBUN\n",
            "RT @rkhuria: If an out of power Rahul Gandhi can manipulate foreign countries better than an in-power PM; isn’t he a more deserving PM cand…\n",
            "\n",
            "\n",
            "Negative tweets:\n",
            "RT @TimesNow: Rahul Gandhi is confused that he should stand with the country or he should stand with Pakistan: @gauravbh, National Spokespe…\n",
            "Thiruvananthapuram: Congress President Rahul Gandhi is a \"game changer\" &amp; \"completely\" changed the game: Shashi Tha… https://t.co/yZhjdZI5eI\n",
            "@BadmashJimmy @Ra_Bies So Rafale means Rahul Gandhi fail\n",
            "RT @Humor_Silly: Rahul Gandhi Exposed. #Spoof https://t.co/mUOoCdkdXl\n"
          ],
          "name": "stdout"
        }
      ]
    }
  ]
}